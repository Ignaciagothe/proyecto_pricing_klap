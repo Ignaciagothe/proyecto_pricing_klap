{
 "cells": [
  {
   "cell_type": "markdown",
   "id": "93cb0c14",
   "metadata": {},
   "source": []
  },
  {
   "cell_type": "markdown",
   "id": "f174b1a8",
   "metadata": {},
   "source": [
    "# Exploración inicial de datos de pricing\n",
    "\n",
    "Notebook preparado para entender la base disponible y definir próximos pasos del proyecto de pricing."
   ]
  },
  {
   "cell_type": "code",
   "execution_count": null,
   "id": "304dcb2f",
   "metadata": {},
   "outputs": [],
   "source": [
    "%pip install scikit-learn"
   ]
  },
  {
   "cell_type": "code",
   "execution_count": null,
   "id": "f8dfa591",
   "metadata": {},
   "outputs": [],
   "source": [
    "from pathlib import Path\n",
    "\n",
    "import numpy as np\n",
    "import pandas as pd\n",
    "from sklearn.preprocessing import StandardScaler\n",
    "from sklearn.cluster import KMeans\n",
    "\n",
    "pd.options.display.float_format = \"{:,.2f}\".format\n",
    "\n",
    "BASE_PATH = Path(\"base_con_sin_trx_cleaned.csv\")\n",
    "DATA_DIR = Path(\"data\")\n",
    "RAW_TERMINAL_FILE = DATA_DIR / \"terminales_con_sin_transacciones_mensual.csv\"\n",
    "PRICING_FILE = DATA_DIR / \"precios_actuales_klap.xlsx\"\n",
    "COMPETITOR_FILE = DATA_DIR / \"precios_Competidores.xlsx\"\n",
    "BRAND_COST_FILE = DATA_DIR / \"costos_marca_25_1.xlsx\"\n",
    "INTERCHANGE_FILE = DATA_DIR / \"Tasa_Intercambio_Chile_Visa_y_Mastercard.csv\""
   ]
  },
  {
   "cell_type": "markdown",
   "id": "2da767c1",
   "metadata": {},
   "source": [
    "## 1. Carga y validación de la base transaccional mensual"
   ]
  },
  {
   "cell_type": "code",
   "execution_count": null,
   "id": "99b3c89e",
   "metadata": {},
   "outputs": [],
   "source": [
    "# Cargar dataset principal (terminales con/sin transacciones) limpio\n",
    "\n",
    "df = pd.read_csv(BASE_PATH, low_memory=False)\n",
    "print(f\"Filas: {len(df):,}\")\n",
    "print(f\"Columnas: {len(df.columns)}\")\n",
    "print(df.dtypes.head(10))\n",
    "\n",
    "df.head()\n"
   ]
  },
  {
   "cell_type": "code",
   "execution_count": null,
   "id": "06a670d8",
   "metadata": {},
   "outputs": [],
   "source": [
    "# Conversión de tipos esenciales\n",
    "\n",
    "\n",
    "def parse_numeric_date(series):\n",
    "    numeric = pd.to_numeric(series, errors=\"coerce\")\n",
    "    result = pd.Series(pd.NaT, index=series.index, dtype=\"datetime64[ns]\")\n",
    "    valid = numeric.notna()\n",
    "    if valid.any():\n",
    "        numeric_int = numeric[valid].round().astype(\"Int64\")\n",
    "        formatted = numeric_int.astype(str).str.zfill(8)\n",
    "        parsed = pd.to_datetime(formatted, format=\"%Y%m%d\", errors=\"coerce\")\n",
    "        result.loc[valid] = parsed.values\n",
    "    return result\n",
    "\n",
    "\n",
    "df[\"periodo\"] = pd.to_datetime(\n",
    "    df[\"periodo\"] + \"-01\", format=\"%Y-%m-%d\", errors=\"coerce\"\n",
    ").dt.to_period(\"M\")\n",
    "df[\"fecha_instalacion\"] = parse_numeric_date(df[\"fecha_instalacion\"])\n",
    "df[\"fecha_baja\"] = parse_numeric_date(df[\"fecha_baja\"])\n",
    "\n",
    "value_cols = [c for c in df.columns if c.startswith(\"qtrx_\") or c.startswith(\"monto_\")]\n",
    "for col in value_cols:\n",
    "    df[col] = pd.to_numeric(df[col], errors=\"coerce\").fillna(0)\n",
    "\n",
    "qtrx_cols = [c for c in df.columns if c.startswith(\"qtrx_\") and c != \"qtrx_total\"]\n",
    "monto_cols = [c for c in df.columns if c.startswith(\"monto_\") and c != \"monto_clp\"]\n",
    "\n",
    "df[\"qtrx_total\"] = pd.to_numeric(df[\"qtrx_total\"], errors=\"coerce\").fillna(0)\n",
    "df[\"monto_clp\"] = pd.to_numeric(df[\"monto_clp\"], errors=\"coerce\").fillna(0)\n",
    "if df[\"qtrx_total\"].eq(0).all():\n",
    "    df[\"qtrx_total\"] = df[qtrx_cols].sum(axis=1)\n",
    "if df[\"monto_clp\"].eq(0).all():\n",
    "    df[\"monto_clp\"] = df[monto_cols].sum(axis=1)\n",
    "\n",
    "df[[\"periodo\", \"fecha_instalacion\", \"fecha_baja\", \"qtrx_total\", \"monto_clp\"]].head()\n"
   ]
  },
  {
   "cell_type": "markdown",
   "id": "cd094293",
   "metadata": {},
   "source": [
    "### 1.1 Estadísticas generales del dataset"
   ]
  },
  {
   "cell_type": "code",
   "execution_count": null,
   "id": "61b9937f",
   "metadata": {},
   "outputs": [],
   "source": [
    "summary = {\n",
    "    \"filas\": len(df),\n",
    "    \"periodo_min\": df[\"periodo\"].min(),\n",
    "    \"periodo_max\": df[\"periodo\"].max(),\n",
    "    \"meses_distintos\": df[\"periodo\"].nunique(),\n",
    "    \"comercios_distintos\": df[\"rut_comercio\"].nunique(),\n",
    "    \"locales_distintos\": df[\"codigo_local\"].nunique(),\n",
    "    \"terminales_distintos\": df[\"numero_terminal\"].nunique(),\n",
    "    \"total_transacciones\": int(df[\"qtrx_total\"].sum()),\n",
    "    \"total_monto_clp\": df[\"monto_clp\"].sum(),\n",
    "    \"share_filas_monto_cero\": df[\"monto_clp\"].eq(0).mean(),\n",
    "}\n",
    "summary\n"
   ]
  },
  {
   "cell_type": "code",
   "execution_count": null,
   "id": "5833938d",
   "metadata": {},
   "outputs": [],
   "source": [
    "estado_counts = df[\"estado_terminal\"].value_counts(dropna=False).to_frame(\"filas\")\n",
    "tecnologia_counts = (\n",
    "    df[\"tecnologia_instalar\"].value_counts(dropna=False).to_frame(\"filas\")\n",
    ")\n",
    "vertical_counts = df[\"vertical\"].value_counts(dropna=False).to_frame(\"filas\")\n",
    "adquirencia_counts = df[\"adquirencia\"].value_counts(dropna=False).to_frame(\"filas\")\n",
    "\n",
    "estado_counts.head()\n"
   ]
  },
  {
   "cell_type": "code",
   "execution_count": null,
   "id": "92ef038d",
   "metadata": {},
   "outputs": [],
   "source": [
    "tecnologia_counts.head()"
   ]
  },
  {
   "cell_type": "code",
   "execution_count": null,
   "id": "2139909a",
   "metadata": {},
   "outputs": [],
   "source": [
    "vertical_counts.head()"
   ]
  },
  {
   "cell_type": "code",
   "execution_count": null,
   "id": "c87b0c88",
   "metadata": {},
   "outputs": [],
   "source": [
    "adquirencia_counts"
   ]
  },
  {
   "cell_type": "code",
   "execution_count": null,
   "id": "ba87e4c1",
   "metadata": {},
   "outputs": [],
   "source": [
    "brand_monto_cols = [\n",
    "    c for c in df.columns if c.startswith(\"monto_\") and c != \"monto_clp\"\n",
    "]\n",
    "brand_totals = (\n",
    "    df[brand_monto_cols].sum().sort_values(ascending=False).to_frame(\"monto_total_clp\")\n",
    ")\n",
    "brand_totals\n"
   ]
  },
  {
   "cell_type": "markdown",
   "id": "c9ff8964",
   "metadata": {},
   "source": [
    "### 1.2 Agregación comercio × mes"
   ]
  },
  {
   "cell_type": "code",
   "execution_count": null,
   "id": "ad2b1ebd",
   "metadata": {},
   "outputs": [],
   "source": [
    "merchant_month = (\n",
    "    df.groupby([\"periodo\", \"rut_comercio\"], as_index=False)\n",
    "    .agg(\n",
    "        {\n",
    "            \"monto_clp\": \"sum\",\n",
    "            \"qtrx_total\": \"sum\",\n",
    "            \"codigo_local\": \"nunique\",\n",
    "            \"numero_terminal\": \"nunique\",\n",
    "            \"estado_terminal\": lambda s: s.mode().iat[0]\n",
    "            if not s.mode().empty\n",
    "            else None,\n",
    "            \"tecnologia_instalar\": lambda s: \"|\".join(\n",
    "                sorted(set(filter(None, s.astype(str))))\n",
    "            ),\n",
    "        }\n",
    "    )\n",
    "    .rename(columns={\"codigo_local\": \"n_locales\", \"numero_terminal\": \"n_terminales\"})\n",
    ")\n",
    "merchant_month[\"ticket_promedio\"] = np.where(\n",
    "    merchant_month[\"qtrx_total\"] > 0,\n",
    "    merchant_month[\"monto_clp\"] / merchant_month[\"qtrx_total\"],\n",
    "    np.nan,\n",
    ")\n",
    "merchant_month.head()\n"
   ]
  },
  {
   "cell_type": "code",
   "execution_count": null,
   "id": "d7db58a5",
   "metadata": {},
   "outputs": [],
   "source": [
    "agg_summary = {\n",
    "    \"filas\": len(merchant_month),\n",
    "    \"meses_activos_share\": merchant_month[\"monto_clp\"].gt(0).mean(),\n",
    "    \"ticket_promedio_describe\": merchant_month[\"ticket_promedio\"].describe(\n",
    "        percentiles=[0.25, 0.5, 0.75, 0.9]\n",
    "    ),\n",
    "}\n",
    "agg_summary\n"
   ]
  },
  {
   "cell_type": "code",
   "execution_count": null,
   "id": "3bcff902",
   "metadata": {},
   "outputs": [],
   "source": [
    "region_totals = df.groupby(\"region_suc\")[\"monto_clp\"].sum().sort_values(ascending=False)\n",
    "region_totals.head(10)\n"
   ]
  },
  {
   "cell_type": "markdown",
   "id": "7a4c72db",
   "metadata": {},
   "source": [
    "### 1.3 Validaciones y aclaraciones clave\n",
    "- `monto_adquriencia_general` representa el total procesado de pagos con tarjeta por registro, por lo que se utiliza como referencia del volumen global.\n",
    "- En la base limpia `monto_clp` coincide con `monto_adquriencia_general`; los campos por marca (`monto_visa`, `monto_mastercard`, etc.) son desgloses del mismo total.\n",
    "- `estado_terminal` refleja el estado vigente al momento de la extracción y no necesariamente el estado histórico del periodo, por lo que conviene complementarlo con fechas de instalación/baja y métricas de actividad."
   ]
  },
  {
   "cell_type": "code",
   "execution_count": null,
   "id": "60433113",
   "metadata": {},
   "outputs": [],
   "source": [
    "# Validación de consistencia entre monto_clp y monto_adquriencia_general\n",
    "monto_diff = df[\"monto_clp\"] - df[\"monto_adquriencia_general\"]\n",
    "validacion_montos = pd.DataFrame(\n",
    "    {\n",
    "        \"suma_absoluta_diferencias\": [monto_diff.abs().sum()],\n",
    "        \"maxima_diferencia_absoluta\": [monto_diff.abs().max()],\n",
    "        \"porcentaje_coincidencia\": [monto_diff.eq(0).mean()],\n",
    "    }\n",
    ")\n",
    "validacion_montos\n"
   ]
  },
  {
   "cell_type": "markdown",
   "id": "d61edcc7",
   "metadata": {},
   "source": [
    "## 2. Información complementaria de pricing y mercado"
   ]
  },
  {
   "cell_type": "code",
   "execution_count": null,
   "id": "02ed1316",
   "metadata": {},
   "outputs": [],
   "source": [
    "pricing_grid = pd.read_excel(PRICING_FILE)\n",
    "competitor_prices = pd.read_excel(COMPETITOR_FILE)\n",
    "brand_costs = pd.read_excel(BRAND_COST_FILE)\n",
    "interchange_caps = pd.read_csv(INTERCHANGE_FILE)\n",
    "\n",
    "pricing_grid.head()\n"
   ]
  },
  {
   "cell_type": "code",
   "execution_count": null,
   "id": "a10b826f",
   "metadata": {},
   "outputs": [],
   "source": [
    "competitor_prices.head()"
   ]
  },
  {
   "cell_type": "code",
   "execution_count": null,
   "id": "21cad17c",
   "metadata": {},
   "outputs": [],
   "source": [
    "brand_costs.head()"
   ]
  },
  {
   "cell_type": "code",
   "execution_count": null,
   "id": "e57e8904",
   "metadata": {},
   "outputs": [],
   "source": [
    "interchange_caps.head()"
   ]
  },
  {
   "cell_type": "markdown",
   "id": "fc18d999",
   "metadata": {},
   "source": [
    "### 2.1 Estadísticas resumidas de costos e interchange"
   ]
  },
  {
   "cell_type": "code",
   "execution_count": null,
   "id": "c5f1e091",
   "metadata": {},
   "outputs": [],
   "source": [
    "brand_cost_summary = (\n",
    "    brand_costs.groupby(\"Marca\")[\"Total costos de marca %\"]\n",
    "    .agg([\"mean\", \"min\", \"max\"])\n",
    "    .rename(columns={\"mean\": \"promedio\", \"min\": \"minimo\", \"max\": \"maximo\"})\n",
    ")\n",
    "brand_cost_summary\n"
   ]
  },
  {
   "cell_type": "code",
   "execution_count": null,
   "id": "6261e0ac",
   "metadata": {},
   "outputs": [],
   "source": [
    "cp_interchange = interchange_caps[interchange_caps[\"Canal\"] == \"CP\"]\n",
    "interchange_summary = (\n",
    "    cp_interchange.groupby([\"Marca\", \"Tipo de tarjeta\"])[\"TI %\"]\n",
    "    .median()\n",
    "    .unstack(level=\"Tipo de tarjeta\")\n",
    ")\n",
    "interchange_summary\n"
   ]
  },
  {
   "cell_type": "markdown",
   "id": "0ca2295c",
   "metadata": {},
   "source": [
    "## 3. Ingeniería de variables para pricing\n",
    "\n",
    "Construimos una tabla base a nivel comercio con indicadores de volumen, actividad, mezcla de marcas y estimaciones de costo para alimentar escenarios de pricing."
   ]
  },
  {
   "cell_type": "code",
   "execution_count": null,
   "id": "8bcb3b06",
   "metadata": {},
   "outputs": [],
   "source": [
    "brand_detail_cols = [\n",
    "    \"monto_visa\",\n",
    "    \"monto_mastercard\",\n",
    "    \"monto_amex\",\n",
    "    \"monto_casas_comerciales\",\n",
    "    \"monto_vale_electronico\",\n",
    "    \"monto_ripley\",\n",
    "    \"monto_hites\",\n",
    "    \"monto_adquriencia_general\",\n",
    "]\n",
    "merchant_brand = (\n",
    "    df.groupby(\"rut_comercio\")[brand_detail_cols]\n",
    "    .sum()\n",
    "    .rename(columns={\"monto_adquriencia_general\": \"monto_total_tarjetas\"})\n",
    "    .reset_index()\n",
    ")\n",
    "brand_value_cols = [\n",
    "    c\n",
    "    for c in merchant_brand.columns\n",
    "    if c.startswith(\"monto_\") and c != \"monto_total_tarjetas\"\n",
    "]\n",
    "for col in brand_value_cols:\n",
    "    share_col = col.replace(\"monto_\", \"share_\")\n",
    "    merchant_brand[share_col] = np.where(\n",
    "        merchant_brand[\"monto_total_tarjetas\"] > 0,\n",
    "        merchant_brand[col] / merchant_brand[\"monto_total_tarjetas\"],\n",
    "        np.nan,\n",
    "    )\n",
    "merchant_brand.head()\n"
   ]
  },
  {
   "cell_type": "code",
   "execution_count": null,
   "id": "5595c96b",
   "metadata": {},
   "outputs": [],
   "source": [
    "merchant_features = (\n",
    "    merchant_month.groupby(\"rut_comercio\")\n",
    "    .agg(\n",
    "        monto_total_anual=(\"monto_clp\", \"sum\"),\n",
    "        qtrx_total_anual=(\"qtrx_total\", \"sum\"),\n",
    "        meses_reportados=(\"periodo\", \"nunique\"),\n",
    "        meses_con_ventas=(\"monto_clp\", lambda s: int((s > 0).sum())),\n",
    "        monto_promedio_mensual=(\"monto_clp\", \"mean\"),\n",
    "        monto_max_mensual=(\"monto_clp\", \"max\"),\n",
    "        qtrx_promedio_mensual=(\"qtrx_total\", \"mean\"),\n",
    "        ticket_promedio_mensual=(\"ticket_promedio\", \"mean\"),\n",
    "        n_locales_max=(\"n_locales\", \"max\"),\n",
    "        n_terminales_max=(\"n_terminales\", \"max\"),\n",
    "    )\n",
    "    .reset_index()\n",
    ")\n",
    "merchant_features[\"share_meses_activos\"] = np.where(\n",
    "    merchant_features[\"meses_reportados\"] > 0,\n",
    "    merchant_features[\"meses_con_ventas\"] / merchant_features[\"meses_reportados\"],\n",
    "    np.nan,\n",
    ")\n",
    "tech_counts = (\n",
    "    df.groupby(\"rut_comercio\")[\"tecnologia_instalar\"]\n",
    "    .nunique()\n",
    "    .reset_index(name=\"n_tecnologias_unicas\")\n",
    ")\n",
    "estado_actual = (\n",
    "    df.sort_values(\"periodo\")\n",
    "    .groupby(\"rut_comercio\")[\"estado_terminal\"]\n",
    "    .last()\n",
    "    .reset_index(name=\"estado_terminal_actual\")\n",
    ")\n",
    "merchant_features = merchant_features.merge(\n",
    "    tech_counts, on=\"rut_comercio\", how=\"left\"\n",
    ").merge(estado_actual, on=\"rut_comercio\", how=\"left\")\n",
    "merchant_features.head()\n"
   ]
  },
  {
   "cell_type": "code",
   "execution_count": null,
   "id": "bdb1c538",
   "metadata": {},
   "outputs": [],
   "source": [
    "brand_cost_promedio = (\n",
    "    brand_costs.groupby(\"Marca\")[\"Total costos de marca %\"].mean().to_dict()\n",
    ")\n",
    "brand_cost_promedio = {k.lower(): v for k, v in brand_cost_promedio.items()}\n",
    "\n",
    "assumed_mix = {\"Crédito\": 0.6, \"Débito\": 0.35, \"Prepago\": 0.05}\n",
    "cp_interchange = interchange_caps[interchange_caps[\"Canal\"] == \"CP\"]\n",
    "interchange_median_rates = (\n",
    "    cp_interchange.groupby(\"Tipo de tarjeta\")[\"TI %\"].median().div(100).to_dict()\n",
    ")\n",
    "interchange_floor_rate = sum(\n",
    "    assumed_mix.get(tipo, 0) * interchange_median_rates.get(tipo, 0)\n",
    "    for tipo in assumed_mix\n",
    ")\n",
    "\n",
    "for col in [\n",
    "    c\n",
    "    for c in merchant_brand.columns\n",
    "    if c.startswith(\"monto_\") and c != \"monto_total_tarjetas\"\n",
    "]:\n",
    "    brand_key = col.replace(\"monto_\", \"\")\n",
    "    merchant_brand[f\"costo_marca_{brand_key}\"] = merchant_brand[\n",
    "        col\n",
    "    ] * brand_cost_promedio.get(brand_key.lower(), 0)\n",
    "merchant_brand[\"costo_marca_estimado\"] = merchant_brand[\n",
    "    [c for c in merchant_brand.columns if c.startswith(\"costo_marca_\")]\n",
    "].sum(axis=1)\n",
    "\n",
    "merchant_pricing_base = merchant_features.merge(\n",
    "    merchant_brand, on=\"rut_comercio\", how=\"left\"\n",
    ")\n",
    "\n",
    "merchant_pricing_base[\"interchange_floor_estimado\"] = (\n",
    "    merchant_pricing_base[\"monto_total_anual\"] * interchange_floor_rate\n",
    ")\n",
    "merchant_pricing_base[\"costo_min_estimado\"] = (\n",
    "    merchant_pricing_base[\"interchange_floor_estimado\"]\n",
    "    + merchant_pricing_base[\"costo_marca_estimado\"]\n",
    ")\n",
    "\n",
    "merchant_pricing_base[\"monto_promedio_mensual\"] = merchant_pricing_base[\n",
    "    \"monto_promedio_mensual\"\n",
    "].fillna(0)\n",
    "segment_bins = [0, 8_000_000, 30_000_000, 75_000_000, float(\"inf\")]\n",
    "segment_labels = [\"Estándar\", \"PRO\", \"PRO Max\", \"Enterprise\"]\n",
    "segment_assignment = pd.cut(\n",
    "    merchant_pricing_base[\"monto_promedio_mensual\"],\n",
    "    bins=segment_bins,\n",
    "    labels=segment_labels,\n",
    "    right=False,\n",
    "    include_lowest=True,\n",
    ")\n",
    "merchant_pricing_base[\"segmento_promedio_volumen\"] = segment_assignment.astype(\"string\")\n",
    "merchant_pricing_base.loc[\n",
    "    merchant_pricing_base[\"monto_promedio_mensual\"] == 0, \"segmento_promedio_volumen\"\n",
    "] = \"Sin ventas\"\n",
    "\n",
    "feature_cols_preview = [\n",
    "    \"rut_comercio\",\n",
    "    \"monto_total_anual\",\n",
    "    \"monto_promedio_mensual\",\n",
    "    \"meses_reportados\",\n",
    "    \"meses_con_ventas\",\n",
    "    \"share_meses_activos\",\n",
    "    \"n_locales_max\",\n",
    "    \"n_terminales_max\",\n",
    "    \"n_tecnologias_unicas\",\n",
    "    \"estado_terminal_actual\",\n",
    "    \"segmento_promedio_volumen\",\n",
    "    \"monto_total_tarjetas\",\n",
    "    \"share_visa\",\n",
    "    \"share_mastercard\",\n",
    "    \"interchange_floor_estimado\",\n",
    "    \"costo_marca_estimado\",\n",
    "    \"costo_min_estimado\",\n",
    "]\n",
    "merchant_pricing_base[feature_cols_preview].head()\n"
   ]
  },
  {
   "cell_type": "markdown",
   "id": "8f965071",
   "metadata": {},
   "source": [
    "#### Supuestos aplicados\n",
    "- Se utiliza una mezcla estándar de tarjetas (`Crédito` 60%, `Débito` 35%, `Prepago` 5%) para estimar el piso de interchange, dado que la base no distingue el tipo de plástico.\n",
    "- Los costos de marca se aproximan con el promedio histórico 2025 provisto (`costos_marca_25_1.xlsx`) y sólo están disponibles para Visa y Mastercard; el resto de las redes se modelan con costo 0 hasta contar con información adicional.\n",
    "- Las cuotas de mezcla por marca (`share_*`) se calculan dividiendo los montos por red sobre `monto_total_tarjetas`, equivalente a `monto_adquriencia_general`."
   ]
  },
  {
   "cell_type": "code",
   "execution_count": null,
   "id": "9114d223",
   "metadata": {},
   "outputs": [],
   "source": [
    "feature_output = DATA_DIR / \"processed\" / \"merchant_pricing_feature_base.parquet\"\n",
    "feature_output.parent.mkdir(parents=True, exist_ok=True)\n",
    "merchant_pricing_base.to_parquet(feature_output, index=False)\n",
    "feature_output\n"
   ]
  },
  {
   "cell_type": "markdown",
   "id": "0c074587",
   "metadata": {},
   "source": [
    "### 3.1 Modelo de pricing y margen\n",
    "Construimos el modelo que estima ingresos, costos y brecha competitiva por comercio para priorizar acciones de pricing."
   ]
  },
  {
   "cell_type": "code",
   "execution_count": null,
   "id": "fabc24c6",
   "metadata": {},
   "outputs": [],
   "source": [
    "# Preparar tabla de tarifas vigentes de Klap por segmento y medio\n",
    "pricing_grid[\"Variable_pct\"] = pricing_grid[\"Variable %\"] / 100\n",
    "pricing_matrix = pricing_grid.pivot_table(\n",
    "    index=\"Segmento\", columns=\"Medio\", values=[\"Variable_pct\", \"Fijo CLP (aprox)\"]\n",
    ")\n",
    "pricing_matrix\n"
   ]
  },
  {
   "cell_type": "code",
   "execution_count": null,
   "id": "a95ce984",
   "metadata": {},
   "outputs": [],
   "source": [
    "# Mezcla asumida de medios de pago (ante la ausencia de detalle por tipo de tarjeta)\n",
    "assumed_mix = {\"Crédito\": 0.6, \"Débito\": 0.35, \"Prepago\": 0.05}\n",
    "pd.Series(assumed_mix, name=\"mix\")\n"
   ]
  },
  {
   "cell_type": "code",
   "execution_count": null,
   "id": "3390205c",
   "metadata": {},
   "outputs": [],
   "source": [
    "# Cálculo del MDR y fijo efectivos de Klap por segmento con el mix asumido\n",
    "var_matrix = pricing_matrix.xs(\"Variable_pct\", level=0, axis=1)\n",
    "fijo_matrix = pricing_matrix.xs(\"Fijo CLP (aprox)\", level=0, axis=1)\n",
    "\n",
    "segment_effective = []\n",
    "for segment in pricing_matrix.index:\n",
    "    var_cols = var_matrix.loc[segment]\n",
    "    fijo_cols = fijo_matrix.loc[segment]\n",
    "    var_effective = 0.0\n",
    "    fijo_effective = 0.0\n",
    "    for medio, share in assumed_mix.items():\n",
    "        var_valor = var_cols.get(medio, np.nan)\n",
    "        if pd.notna(var_valor):\n",
    "            var_effective += share * float(var_valor)\n",
    "        fijo_valor = fijo_cols.get(medio, np.nan)\n",
    "        if pd.notna(fijo_valor):\n",
    "            fijo_effective += share * float(fijo_valor)\n",
    "    segment_effective.append(\n",
    "        {\n",
    "            \"Segmento\": segment,\n",
    "            \"mdr_effectivo\": var_effective,\n",
    "            \"fijo_effectivo\": fijo_effective,\n",
    "        }\n",
    "    )\n",
    "\n",
    "segment_effective = pd.DataFrame(segment_effective).set_index(\"Segmento\").sort_index()\n",
    "if \"PRO Max\" not in segment_effective.index:\n",
    "    raise KeyError(\"No se encontró la tarifa PRO Max en la grilla oficial.\")\n",
    "if \"Enterprise\" not in segment_effective.index:\n",
    "    segment_effective.loc[\"Enterprise\"] = segment_effective.loc[\"PRO Max\"]\n",
    "segment_effective.loc[\"Sin ventas\"] = {\"mdr_effectivo\": 0.0, \"fijo_effectivo\": 0.0}\n",
    "segment_effective = segment_effective.reset_index()\n",
    "segment_effective"
   ]
  },
  {
   "cell_type": "code",
   "execution_count": null,
   "id": "1112d453",
   "metadata": {},
   "outputs": [],
   "source": [
    "# Enriquecer la base de comercios con tarifas vigentes\n",
    "pricing_lookup = segment_effective.set_index(\"Segmento\")[\n",
    "    [\"mdr_effectivo\", \"fijo_effectivo\"]\n",
    "]\n",
    "\n",
    "merchant_pricing_base[\"segmento_norm\"] = (\n",
    "    merchant_pricing_base[\"segmento_promedio_volumen\"]\n",
    "    .fillna(\"Sin ventas\")\n",
    "    .replace({\"\": \"Sin ventas\"})\n",
    ")\n",
    "\n",
    "merchant_pricing_base[\"klap_mdr\"] = (\n",
    "    merchant_pricing_base[\"segmento_norm\"]\n",
    "    .map(pricing_lookup[\"mdr_effectivo\"])\n",
    "    .fillna(0.0)\n",
    ")\n",
    "merchant_pricing_base[\"klap_fijo_clp\"] = (\n",
    "    merchant_pricing_base[\"segmento_norm\"]\n",
    "    .map(pricing_lookup[\"fijo_effectivo\"])\n",
    "    .fillna(0.0)\n",
    ")\n",
    "merchant_pricing_base[[\"segmento_promedio_volumen\", \"klap_mdr\", \"klap_fijo_clp\"]].head()"
   ]
  },
  {
   "cell_type": "code",
   "execution_count": null,
   "id": "6c659970",
   "metadata": {},
   "outputs": [],
   "source": [
    "# Ingresos y márgenes estimados con las tarifas actuales\n",
    "merchant_pricing_base[\"ingreso_variable\"] = (\n",
    "    merchant_pricing_base[\"monto_total_anual\"] * merchant_pricing_base[\"klap_mdr\"]\n",
    ")\n",
    "merchant_pricing_base[\"ingreso_fijo\"] = (\n",
    "    merchant_pricing_base[\"qtrx_total_anual\"] * merchant_pricing_base[\"klap_fijo_clp\"]\n",
    ")\n",
    "merchant_pricing_base[\"ingreso_total_klap\"] = (\n",
    "    merchant_pricing_base[\"ingreso_variable\"] + merchant_pricing_base[\"ingreso_fijo\"]\n",
    ")\n",
    "merchant_pricing_base[\"margen_estimado\"] = (\n",
    "    merchant_pricing_base[\"ingreso_total_klap\"]\n",
    "    - merchant_pricing_base[\"costo_min_estimado\"]\n",
    ")\n",
    "merchant_pricing_base[\"margen_pct_volumen\"] = np.where(\n",
    "    merchant_pricing_base[\"monto_total_anual\"] > 0,\n",
    "    merchant_pricing_base[\"margen_estimado\"]\n",
    "    / merchant_pricing_base[\"monto_total_anual\"],\n",
    "    np.nan,\n",
    ")\n",
    "merchant_pricing_base[\n",
    "    [\n",
    "        \"ingreso_total_klap\",\n",
    "        \"costo_min_estimado\",\n",
    "        \"margen_estimado\",\n",
    "        \"margen_pct_volumen\",\n",
    "    ]\n",
    "].describe()\n"
   ]
  },
  {
   "cell_type": "code",
   "execution_count": null,
   "id": "df3ee862",
   "metadata": {},
   "outputs": [],
   "source": [
    "# Exploración de categorías de productos en el benchmark de competidores\n",
    "competitor_prices[\"categoria_producto\"].value_counts()\n"
   ]
  },
  {
   "cell_type": "code",
   "execution_count": null,
   "id": "c2107aab",
   "metadata": {},
   "outputs": [],
   "source": [
    "# Seleccionar Transbank como benchmark principal y calcular tasas promedio\n",
    "comp_primary = competitor_prices[\n",
    "    competitor_prices[\"nombre_tarifa\"] == \"TRANSBANK\"\n",
    "].copy()\n",
    "comp_primary[\"merchant_discount_pct\"] = comp_primary[\"merchant_discount\"]\n",
    "comp_primary[\"merchant_discount_fijo_clp\"] = comp_primary[\"merchant_discount_fijo\"]\n",
    "comp_summary = comp_primary.groupby(\"categoria_producto\")[\n",
    "    [\"merchant_discount_pct\", \"merchant_discount_fijo_clp\"]\n",
    "].median()\n",
    "comp_summary\n"
   ]
  },
  {
   "cell_type": "code",
   "execution_count": null,
   "id": "9945808c",
   "metadata": {},
   "outputs": [],
   "source": [
    "# Mapeo de categoría -> medio y cálculo del MDR/fijo efectivos del benchmark\n",
    "categoria_to_medio = {\"Crédito\": \"Crédito\", \"Débito\": \"Débito\", \"Prepago\": \"Prepago\"}\n",
    "competitor_mix = []\n",
    "for medio, share in assumed_mix.items():\n",
    "    categoria = categoria_to_medio.get(medio)\n",
    "    if categoria in comp_summary.index:\n",
    "        row = comp_summary.loc[categoria]\n",
    "    else:\n",
    "        row = comp_summary.median()\n",
    "    competitor_mix.append(\n",
    "        {\n",
    "            \"medio\": medio,\n",
    "            \"share\": share,\n",
    "            \"mdr\": row[\"merchant_discount_pct\"],\n",
    "            \"fijo\": row[\"merchant_discount_fijo_clp\"],\n",
    "        }\n",
    "    )\n",
    "competitor_mix = pd.DataFrame(competitor_mix)\n",
    "competitor_mix\n"
   ]
  },
  {
   "cell_type": "code",
   "execution_count": null,
   "id": "3b1a0edc",
   "metadata": {},
   "outputs": [],
   "source": [
    "competitor_effective_mdr = (competitor_mix[\"share\"] * competitor_mix[\"mdr\"]).sum()\n",
    "competitor_effective_fijo = (competitor_mix[\"share\"] * competitor_mix[\"fijo\"]).sum()\n",
    "competitor_effective_mdr, competitor_effective_fijo\n"
   ]
  },
  {
   "cell_type": "code",
   "execution_count": null,
   "id": "306e3f55",
   "metadata": {},
   "outputs": [],
   "source": [
    "merchant_pricing_base[\"competidor_mdr\"] = competitor_effective_mdr\n",
    "merchant_pricing_base[\"competidor_fijo_clp\"] = competitor_effective_fijo\n",
    "merchant_pricing_base[\"ingreso_comp_variable\"] = (\n",
    "    merchant_pricing_base[\"monto_total_anual\"] * merchant_pricing_base[\"competidor_mdr\"]\n",
    ")\n",
    "merchant_pricing_base[\"ingreso_comp_fijo\"] = (\n",
    "    merchant_pricing_base[\"qtrx_total_anual\"]\n",
    "    * merchant_pricing_base[\"competidor_fijo_clp\"]\n",
    ")\n",
    "merchant_pricing_base[\"ingreso_total_comp\"] = (\n",
    "    merchant_pricing_base[\"ingreso_comp_variable\"]\n",
    "    + merchant_pricing_base[\"ingreso_comp_fijo\"]\n",
    ")\n",
    "merchant_pricing_base[\"gap_pricing_mdr\"] = (\n",
    "    merchant_pricing_base[\"klap_mdr\"] - merchant_pricing_base[\"competidor_mdr\"]\n",
    ")\n",
    "merchant_pricing_base[[\"klap_mdr\", \"competidor_mdr\", \"gap_pricing_mdr\"]].describe()\n"
   ]
  },
  {
   "cell_type": "code",
   "execution_count": null,
   "id": "a1711bd7",
   "metadata": {},
   "outputs": [],
   "source": [
    "# Reglas de decisión para recomendaciones\n",
    "THRESHOLD_MARGEN = 0.0\n",
    "THRESHOLD_COMPETENCIA = 0.0015  # 0.15 p.p.\n",
    "THRESHOLD_INACTIVIDAD = 0.2\n",
    "\n",
    "share_activos = merchant_pricing_base[\"share_meses_activos\"].fillna(0)\n",
    "condiciones = [\n",
    "    merchant_pricing_base[\"monto_total_anual\"].eq(0),\n",
    "    merchant_pricing_base[\"margen_estimado\"] <= THRESHOLD_MARGEN,\n",
    "    merchant_pricing_base[\"gap_pricing_mdr\"] > THRESHOLD_COMPETENCIA,\n",
    "    share_activos < THRESHOLD_INACTIVIDAD,\n",
    "]\n",
    "opciones = [\n",
    "    \"Reactivación comercial\",\n",
    "    \"Ajustar MDR urgente\",\n",
    "    \"Revisar competitividad\",\n",
    "    \"Monitorear baja actividad\",\n",
    "]\n",
    "merchant_pricing_base[\"accion_sugerida\"] = np.select(\n",
    "    condiciones, opciones, default=\"Mantener / Upsell servicios\"\n",
    ")\n",
    "merchant_pricing_base[\"accion_sugerida\"].value_counts()\n"
   ]
  },
  {
   "cell_type": "code",
   "execution_count": null,
   "id": "99f03706",
   "metadata": {},
   "outputs": [],
   "source": [
    "# Impacto agregado por segmento y acción sugerida\n",
    "impact_summary = (\n",
    "    merchant_pricing_base.groupby([\"segmento_promedio_volumen\", \"accion_sugerida\"])\n",
    "    .agg(\n",
    "        n_comercios=(\"rut_comercio\", \"count\"),\n",
    "        monto_total_anual=(\"monto_total_anual\", \"sum\"),\n",
    "        margen_estimado=(\"margen_estimado\", \"sum\"),\n",
    "    )\n",
    "    .sort_values(\"monto_total_anual\", ascending=False)\n",
    ")\n",
    "impact_summary.head(10)\n"
   ]
  },
  {
   "cell_type": "markdown",
   "id": "d93a8741",
   "metadata": {},
   "source": [
    "### 3.2 Interpretación inicial\n",
    "- `klap_mdr` y `klap_fijo_clp` representan la tarifa efectiva pagada con la mezcla asumida.\n",
    "- `margen_estimado` es el excedente sobre el piso de costos (interchange + marca); si es ≤ 0, hay riesgo de rentabilidad.\n",
    "- `gap_pricing_mdr` cuantifica la brecha frente al benchmark Transbank; valores superiores a 0.15 p.p. motivan ajustes.\n",
    "- `accion_sugerida` prioriza acciones: reactivación (sin ventas), ajuste urgente (margen nulo/negativo), revisión competitiva (brecha alta), monitoreo (baja actividad) y mantener/up-sell cuando la situación es saludable.\n",
    "- `segmento_cluster_label` clasifica a los comercios en arquetipos (Alta contribución, Brecha competitiva, Margen en riesgo, Baja actividad, Optimización gradual, Sin ventas) para orientar estrategias específicas."
   ]
  },
  {
   "cell_type": "markdown",
   "id": "86f4810d",
   "metadata": {},
   "source": [
    "### 3.3 Nueva segmentación de comercios\n",
    "Aplicamos clustering sobre las métricas de volumen, actividad y margen para identificar arquetipos accionables."
   ]
  },
  {
   "cell_type": "code",
   "execution_count": null,
   "id": "d39f6f39",
   "metadata": {},
   "outputs": [],
   "source": [
    "# Selección de variables para clustering (solo comercios con ventas)\n",
    "feature_columns = [\n",
    "    \"monto_promedio_mensual\",\n",
    "    \"share_meses_activos\",\n",
    "    \"n_terminales_max\",\n",
    "    \"n_tecnologias_unicas\",\n",
    "    \"margen_pct_volumen\",\n",
    "    \"gap_pricing_mdr\",\n",
    "    \"klap_mdr\",\n",
    "    \"competidor_mdr\",\n",
    "    \"share_visa\",\n",
    "    \"share_mastercard\",\n",
    "]\n",
    "mask_activos = merchant_pricing_base[\"monto_total_anual\"] > 0\n",
    "seg_dataset = merchant_pricing_base.loc[mask_activos, feature_columns].fillna(0)\n",
    "scaler = StandardScaler()\n",
    "seg_scaled = scaler.fit_transform(seg_dataset)\n"
   ]
  },
  {
   "cell_type": "code",
   "execution_count": null,
   "id": "7b788431",
   "metadata": {},
   "outputs": [],
   "source": [
    "# Revisión rápida de inercia para distintos k\n",
    "wcss = []\n",
    "for k in range(3, 7):\n",
    "    km = KMeans(n_clusters=k, random_state=42, n_init=20)\n",
    "    km.fit(seg_scaled)\n",
    "    wcss.append({\"k\": k, \"inercia\": km.inertia_})\n",
    "wc_ss_df = pd.DataFrame(wcss)\n",
    "wc_ss_df\n"
   ]
  },
  {
   "cell_type": "code",
   "execution_count": null,
   "id": "12fdf104",
   "metadata": {},
   "outputs": [],
   "source": [
    "# Elegimos k=4 como equilibrio entre granularidad y estabilidad\n",
    "k_optimo = 4\n",
    "kmeans = KMeans(n_clusters=k_optimo, random_state=42, n_init=20)\n",
    "clusters = kmeans.fit_predict(seg_scaled)\n",
    "merchant_pricing_base.loc[mask_activos, \"segmento_cluster\"] = clusters\n",
    "merchant_pricing_base[\"segmento_cluster\"] = (\n",
    "    merchant_pricing_base[\"segmento_cluster\"].fillna(-1).astype(int)\n",
    ")\n"
   ]
  },
  {
   "cell_type": "code",
   "execution_count": null,
   "id": "42194a72",
   "metadata": {},
   "outputs": [],
   "source": [
    "# Resumen por cluster\n",
    "cluster_summary = (\n",
    "    merchant_pricing_base.loc[mask_activos]\n",
    "    .groupby(\"segmento_cluster\")\n",
    "    .agg(\n",
    "        n_comercios=(\"rut_comercio\", \"count\"),\n",
    "        monto_prom_mensual=(\"monto_promedio_mensual\", \"median\"),\n",
    "        margen_pct_medio=(\"margen_pct_volumen\", \"median\"),\n",
    "        margen_estimado_millones=(\"margen_estimado\", lambda s: s.sum() / 1e6),\n",
    "        share_activos_medio=(\"share_meses_activos\", \"median\"),\n",
    "        gap_mdr_medio=(\"gap_pricing_mdr\", \"median\"),\n",
    "        n_terminales_medio=(\"n_terminales_max\", \"median\"),\n",
    "    )\n",
    "    .sort_values(\"monto_prom_mensual\", ascending=False)\n",
    ")\n",
    "cluster_summary\n"
   ]
  },
  {
   "cell_type": "code",
   "execution_count": null,
   "id": "cbe97409",
   "metadata": {},
   "outputs": [],
   "source": [
    "# Asignación de etiquetas descriptivas según patrones observados\n",
    "vol_high = merchant_pricing_base.loc[mask_activos, \"monto_promedio_mensual\"].quantile(\n",
    "    0.75\n",
    ")\n",
    "vol_low = merchant_pricing_base.loc[mask_activos, \"monto_promedio_mensual\"].quantile(\n",
    "    0.25\n",
    ")\n",
    "margin_low = merchant_pricing_base.loc[mask_activos, \"margen_pct_volumen\"].quantile(\n",
    "    0.25\n",
    ")\n",
    "gap_high = merchant_pricing_base.loc[mask_activos, \"gap_pricing_mdr\"].quantile(0.75)\n",
    "\n",
    "labels = {}\n",
    "for cluster_id, row in cluster_summary.iterrows():\n",
    "    if row[\"margen_estimado_millones\"] <= 0:\n",
    "        labels[cluster_id] = \"Margen en riesgo\"\n",
    "    elif row[\"gap_mdr_medio\"] >= gap_high:\n",
    "        labels[cluster_id] = \"Brecha competitiva\"\n",
    "    elif row[\"monto_prom_mensual\"] >= vol_high and row[\"margen_pct_medio\"] > margin_low:\n",
    "        labels[cluster_id] = \"Alta contribución\"\n",
    "    elif row[\"share_activos_medio\"] < 0.4 or row[\"monto_prom_mensual\"] <= vol_low:\n",
    "        labels[cluster_id] = \"Baja actividad\"\n",
    "    else:\n",
    "        labels[cluster_id] = \"Optimización gradual\"\n",
    "cluster_summary[\"etiqueta_cluster\"] = cluster_summary.index.map(labels)\n",
    "cluster_summary\n"
   ]
  },
  {
   "cell_type": "code",
   "execution_count": null,
   "id": "05527e2f",
   "metadata": {},
   "outputs": [],
   "source": [
    "merchant_pricing_base[\"segmento_cluster_label\"] = (\n",
    "    merchant_pricing_base[\"segmento_cluster\"].map(labels).fillna(\"Sin ventas\")\n",
    ")\n",
    "\n",
    "segmento_counts = merchant_pricing_base[\"segmento_cluster_label\"].value_counts()\n",
    "segmento_counts\n"
   ]
  },
  {
   "cell_type": "code",
   "execution_count": null,
   "id": "ce9e7ff8",
   "metadata": {},
   "outputs": [],
   "source": [
    "# Guardamos un resumen legible de la segmentación\n",
    "segmentation_summary = cluster_summary.reset_index().rename(\n",
    "    columns={\"segmento_cluster\": \"cluster_id\"}\n",
    ")\n",
    "segmentation_summary\n"
   ]
  },
  {
   "cell_type": "code",
   "execution_count": null,
   "id": "fd444c99",
   "metadata": {},
   "outputs": [],
   "source": [
    "# Cruce entre clusters y acción sugerida para priorizar iniciativas\n",
    "cluster_action_summary = (\n",
    "    merchant_pricing_base.groupby([\"segmento_cluster_label\", \"accion_sugerida\"])\n",
    "    .agg(\n",
    "        n_comercios=(\"rut_comercio\", \"count\"),\n",
    "        monto_total_anual=(\"monto_total_anual\", \"sum\"),\n",
    "        margen_estimado=(\"margen_estimado\", \"sum\"),\n",
    "    )\n",
    "    .sort_values(\n",
    "        [\"segmento_cluster_label\", \"monto_total_anual\"], ascending=[True, False]\n",
    "    )\n",
    ")\n",
    "cluster_action_summary\n"
   ]
  },
  {
   "cell_type": "markdown",
   "id": "fa3913c9",
   "metadata": {},
   "source": [
    "### 3.4 Estrategia y racional de pricing\n",
    "El pipeline combina tres pilares para optimizar precios por segmento de comercio:\n",
    "1. **Modelo financiero**: el cálculo de `margen_estimado` contrasta los ingresos actuales (MDR + fijo) contra el piso de costos (interchange y marca), identificando relaciones potencialmente deficitarias antes de que impacten resultados.\n",
    "2. **Referente competitivo**: `gap_pricing_mdr` utiliza la tarifa efectiva de Transbank como benchmark, lo que permite detectar casos donde la propuesta de Klap queda sobre el mercado sin justificación en valor agregado.\n",
    "3. **Segmentación basada en datos**: el clustering `segmento_cluster_label` agrupa comercios según volumen, actividad, tecnología y salud del margen, de modo que las decisiones (ajuste, reactivación, upsell) se tomen a nivel de arquetipo y no comercio por comercio.\n",
    "\n",
    "El cruce `cluster_action_summary` muestra cómo se combinan los clusters con las acciones sugeridas, facilitando definir iniciativas específicas (por ejemplo, planes de retención para \"Brecha competitiva\" o programas de reactivación para \"Baja actividad\"). Esta metodología es robusta porque integra costos reales, competencia y comportamiento transaccional, permitiendo proponer ajustes de pricing sustentados en datos y accionables a escala."
   ]
  },
  {
   "cell_type": "markdown",
   "id": "5af47ada",
   "metadata": {},
   "source": [
    "### 3.5 Recomendación de planes y add-ons\n",
    "Definimos un catálogo de planes fijos/variables y add-ons de alto valor (omnicanal, fidelización, analytics) para asignar propuestas por comercio."
   ]
  },
  {
   "cell_type": "code",
   "execution_count": null,
   "id": "d8798707",
   "metadata": {},
   "outputs": [],
   "source": [
    "# Catálogo de planes y add-ons basado en la grilla oficial\n",
    "segment_mix = segment_effective.set_index(\"Segmento\")\n",
    "\n",
    "planes = [\n",
    "    {\n",
    "        \"nombre\": \"Plan Estándar\",\n",
    "        \"segmento_origen\": \"Estándar\",\n",
    "        \"descripcion\": \"Tarifa oficial para comercios con ventas hasta 8 MM CLP mensuales.\",\n",
    "        \"segmentos_objetivo_volumen\": [\"Estándar\", \"Sin ventas\"],\n",
    "        \"segmentos_objetivo_cluster\": [\n",
    "            \"Baja actividad\",\n",
    "            \"Margen en riesgo\",\n",
    "            \"Brecha competitiva\",\n",
    "        ],\n",
    "    },\n",
    "    {\n",
    "        \"nombre\": \"Plan PRO\",\n",
    "        \"segmento_origen\": \"PRO\",\n",
    "        \"descripcion\": \"Tarifa oficial PRO para comercios con 8-30 MM CLP mensuales.\",\n",
    "        \"segmentos_objetivo_volumen\": [\"PRO\", \"Optimización gradual\"],\n",
    "        \"segmentos_objetivo_cluster\": [\"Optimización gradual\", \"Brecha competitiva\"],\n",
    "    },\n",
    "    {\n",
    "        \"nombre\": \"Plan PRO Max\",\n",
    "        \"segmento_origen\": \"PRO Max\",\n",
    "        \"descripcion\": \"Tarifa oficial PRO Max para comercios de alto volumen (>30 MM CLP).\",\n",
    "        \"segmentos_objetivo_volumen\": [\"PRO Max\", \"Enterprise\"],\n",
    "        \"segmentos_objetivo_cluster\": [\"Alta contribución\"],\n",
    "    },\n",
    "]\n",
    "\n",
    "for plan in planes:\n",
    "    seg = plan[\"segmento_origen\"]\n",
    "    if seg not in segment_mix.index:\n",
    "        raise KeyError(f\"Segmento {seg} no encontrado en la grilla de precios oficial\")\n",
    "    plan[\"mdr\"] = float(segment_mix.loc[seg, \"mdr_effectivo\"])\n",
    "    plan[\"fijo\"] = float(segment_mix.loc[seg, \"fijo_effectivo\"])\n",
    "\n",
    "addons = [\n",
    "    {\n",
    "        \"nombre\": \"Omnicanal Plus\",\n",
    "        \"descripcion\": \"Incluye billeteras, QR, web checkout y soporte para marketplaces.\",\n",
    "        \"fee_mensual\": 35000,\n",
    "        \"criterio\": lambda row: row.get(\"n_tecnologias_unicas\", 0) < 2\n",
    "        and row.get(\"monto_total_anual\", 0) > 60_000_000,\n",
    "    },\n",
    "    {\n",
    "        \"nombre\": \"Insights & Fidelización\",\n",
    "        \"descripcion\": \"Reportes avanzados, campañas de puntos y marketing SMS/Email.\",\n",
    "        \"fee_mensual\": 25000,\n",
    "        \"criterio\": lambda row: row.get(\"share_meses_activos\", 0) > 0.6\n",
    "        and row.get(\"margen_estimado\", 0) > 0,\n",
    "    },\n",
    "    {\n",
    "        \"nombre\": \"Pagos Internacionales\",\n",
    "        \"descripcion\": \"Aceptación de tarjetas internacionales y pagos cross-border.\",\n",
    "        \"fee_mensual\": 45000,\n",
    "        \"criterio\": lambda row: row.get(\"share_visa\", 0) > 0.5\n",
    "        and row.get(\"monto_total_anual\", 0) > 120_000_000,\n",
    "    },\n",
    "]\n"
   ]
  },
  {
   "cell_type": "code",
   "execution_count": null,
   "id": "6037c4df",
   "metadata": {},
   "outputs": [],
   "source": [
    "def recomendar_plan(row):\n",
    "    score_plan = []\n",
    "    for plan in planes:\n",
    "        score = 0\n",
    "        if row.get(\"segmento_promedio_volumen\") in plan[\"segmentos_objetivo_volumen\"]:\n",
    "            score += 2\n",
    "        if row.get(\"segmento_cluster_label\") in plan[\"segmentos_objetivo_cluster\"]:\n",
    "            score += 2\n",
    "        if (\n",
    "            row.get(\"monto_total_anual\", 0) > 120_000_000\n",
    "            and plan[\"nombre\"] == \"Plan PRO Max\"\n",
    "        ):\n",
    "            score += 1\n",
    "        if (\n",
    "            row.get(\"monto_total_anual\", 0) < 30_000_000\n",
    "            and plan[\"nombre\"] == \"Plan Estándar\"\n",
    "        ):\n",
    "            score += 1\n",
    "        if row.get(\"margen_estimado\", 0) <= 0:\n",
    "            score -= 1\n",
    "        score_plan.append((plan[\"nombre\"], plan[\"mdr\"], plan[\"fijo\"], score))\n",
    "    score_plan.sort(key=lambda x: x[3], reverse=True)\n",
    "    best = score_plan[0]\n",
    "    return {\n",
    "        \"plan_recomendado\": best[0],\n",
    "        \"plan_mdr_propuesto\": best[1],\n",
    "        \"plan_fijo_propuesto\": best[2],\n",
    "    }\n",
    "\n",
    "\n",
    "plan_df = merchant_pricing_base.apply(recomendar_plan, axis=1, result_type=\"expand\")\n",
    "merchant_pricing_base = pd.concat([merchant_pricing_base, plan_df], axis=1)\n"
   ]
  },
  {
   "cell_type": "markdown",
   "id": "20958c35",
   "metadata": {},
   "source": [
    "### 3.6 Insights de priorización\n",
    "- **Plan vs. margen**: `plan_summary` muestra qué planes concentran mayor volumen y margen; prioriza esos segmentos para renegociaciones o campañas.\n",
    "- **Add-ons**: `addon_summary` evidencia la demanda potencial de servicios complementarios (Omnicanal, Fidelización, Pagos internacionales).\n",
    "- **Cluster + acción**: el cruce `cluster_action_summary` permite diseñar scripts comerciales específicos para cada arquetipo (ej. ajustar MDR en \"Brecha competitiva\", activar add-ons en \"Alta contribución\")."
   ]
  },
  {
   "cell_type": "code",
   "execution_count": null,
   "id": "41812f9a",
   "metadata": {},
   "outputs": [],
   "source": [
    "# Resumen de propuestas por plan recomendado\n",
    "plan_summary = (\n",
    "    merchant_pricing_base.groupby(\"plan_recomendado\")\n",
    "    .agg(\n",
    "        comercios=(\"rut_comercio\", \"count\"),\n",
    "        volumen=(\"monto_total_anual\", \"sum\"),\n",
    "        margen=(\"margen_estimado\", \"sum\"),\n",
    "    )\n",
    "    .sort_values(\"volumen\", ascending=False)\n",
    ")\n",
    "plan_summary\n"
   ]
  },
  {
   "cell_type": "code",
   "execution_count": null,
   "id": "6329d160",
   "metadata": {},
   "outputs": [],
   "source": [
    "# Resumen de add-ons sugeridos\n",
    "addon_summary = (\n",
    "    merchant_pricing_base[\"addons_recomendados\"]\n",
    "    .value_counts()\n",
    "    .rename_axis(\"addons_recomendados\")\n",
    "    .to_frame(\"comercios\")\n",
    ")\n",
    "addon_summary.head(10)\n"
   ]
  },
  {
   "cell_type": "code",
   "execution_count": null,
   "id": "17ecc36b",
   "metadata": {},
   "outputs": [],
   "source": [
    "def recomendar_addons(row):\n",
    "    sugeridos = []\n",
    "    for addon in addons:\n",
    "        try:\n",
    "            aplica = addon[\"criterio\"](row)\n",
    "        except Exception:\n",
    "            aplica = False\n",
    "        if aplica:\n",
    "            sugeridos.append(f\"{addon['nombre']} (${addon['fee_mensual']:,})\")\n",
    "    return \", \".join(sugeridos) if sugeridos else \"Sin add-ons sugeridos\"\n",
    "\n",
    "\n",
    "merchant_pricing_base[\"addons_recomendados\"] = merchant_pricing_base.apply(\n",
    "    recomendar_addons, axis=1\n",
    ")\n"
   ]
  },
  {
   "cell_type": "code",
   "execution_count": null,
   "id": "f11d1b42",
   "metadata": {},
   "outputs": [],
   "source": [
    "# Guardamos tabla de propuestas comerciales\n",
    "proposal_output = DATA_DIR / \"processed\" / \"merchant_pricing_proposals.parquet\"\n",
    "merchant_pricing_base.to_parquet(proposal_output, index=False)\n",
    "proposal_output\n"
   ]
  },
  {
   "cell_type": "code",
   "execution_count": null,
   "id": "9dc3de9c",
   "metadata": {},
   "outputs": [],
   "source": [
    "# Guardar resultados del modelo para usos posteriores (dashboards, app, etc.)\n",
    "pricing_model_output = DATA_DIR / \"processed\" / \"merchant_pricing_model_results.parquet\"\n",
    "merchant_pricing_base.to_parquet(pricing_model_output, index=False)\n",
    "pricing_model_output\n"
   ]
  },
  {
   "cell_type": "code",
   "execution_count": null,
   "id": "0ea15773",
   "metadata": {},
   "outputs": [],
   "source": [
    "merchant_pricing_base"
   ]
  },
  {
   "cell_type": "markdown",
   "id": "4258959d",
   "metadata": {},
   "source": [
    "## 4. Resumen narrativo\n",
    "\n",
    "### Data snapshot y hallazgos iniciales\n",
    "- **Cobertura temporal**: 12 meses (2024-01 a 2024-12) con 1.4 millones de registros de terminal-mes.\n",
    "- **Base de clientes**: 75k comercios, 99k locales, 142k terminales; solo ~20% de los merchant-mes presentan ventas (>0 CLP), lo que evidencia espacio para reactivación.\n",
    "- **Volumen procesado**: CLP 17.16 billones en 1.78 mil millones de transacciones, altamente concentrados en la Región Metropolitana y en tecnologías HOST TO HOST / POS móviles.\n",
    "- **Mix transaccional**: `monto_adquriencia_general` equivale al total de pagos con tarjeta (`monto_clp`); los montos por marca son desgloses del mismo total, con Visa y Mastercard como redes dominantes.\n",
    "- **Estado operativo**: `estado_terminal` captura la condición vigente de la terminal; para análisis históricos debe combinarse con actividad real y fechas de instalación/baja.\n",
    "- **Referencias de pricing**: se cuenta con grillas actuales de Klap, tarifas de competidores, costos de marca e interchange oficiales para modelar márgenes sin alterar esos parámetros externos.\n",
    "- **Datasets derivados**: `merchant_pricing_feature_base.parquet` concentra métricas de comportamiento y costo, mientras que `merchant_pricing_model_results.parquet` añade ingresos, márgenes, brecha competitiva, acción sugerida y la nueva `segmento_cluster_label`.\n",
    "- **Nueva segmentación**: el clustering identifica arquetipos (Alta contribución, Brecha competitiva, Margen en riesgo, Baja actividad, Optimización gradual) para priorizar tácticas de pricing y fidelización, y el cruce `cluster_action_summary` cuantifica la magnitud de cada acción dentro de esos arquetipos.\n",
    "\n",
    "### Próximos pasos sugeridos\n",
    "1. Evaluar márgenes actuales versus costos mínimos por segmento (`segmento_promedio_volumen`) y detectar clientes con holgura o déficit.\n",
    "2. Incorporar precios vigentes por comercio (si están disponibles) para estimar margen real vs. piso de costo y validar oportunidades de reajuste.\n",
    "3. Desarrollar estrategias de reactivación para terminales inactivos considerando tecnología instalada y potencial de volumen.\n",
    "4. Comparar la propuesta actual con tarifas de competidores para cuantificar riesgos de fuga y oportunidades de upsell.\n"
   ]
  },
  {
   "cell_type": "code",
   "execution_count": null,
   "id": "8f6d6a8a",
   "metadata": {},
   "outputs": [],
   "source": []
  }
 ],
 "metadata": {
  "kernelspec": {
   "display_name": ".venv",
   "language": "python",
   "name": "python3"
  },
  "language_info": {
   "codemirror_mode": {
    "name": "ipython",
    "version": 3
   },
   "file_extension": ".py",
   "mimetype": "text/x-python",
   "name": "python",
   "nbconvert_exporter": "python",
   "pygments_lexer": "ipython3",
   "version": "3.11.8"
  }
 },
 "nbformat": 4,
 "nbformat_minor": 5
}
